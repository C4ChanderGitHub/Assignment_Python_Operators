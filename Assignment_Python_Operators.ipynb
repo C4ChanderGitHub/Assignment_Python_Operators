{
 "cells": [
  {
   "cell_type": "code",
   "execution_count": 1,
   "id": "86d22ed0",
   "metadata": {},
   "outputs": [
    {
     "name": "stdout",
     "output_type": "stream",
     "text": [
      "Your 1st number is: 24\n",
      "Your 2nd number is: 5\n"
     ]
    }
   ],
   "source": [
    "Number1 = int(input(\"Your 1st number is: \"))\n",
    "Number2 = int(input(\"Your 2nd number is: \"))"
   ]
  },
  {
   "cell_type": "markdown",
   "id": "2df302fd",
   "metadata": {},
   "source": [
    "# 1. Calculate the sum, difference, product, and quotient of two numbers"
   ]
  },
  {
   "cell_type": "code",
   "execution_count": 2,
   "id": "24faf322",
   "metadata": {},
   "outputs": [
    {
     "name": "stdout",
     "output_type": "stream",
     "text": [
      "24 + 5 = 29\n"
     ]
    }
   ],
   "source": [
    "#Calculate the sum\n",
    "if Number1 >0 and Number2>0:\n",
    "    print(f'{Number1} + {Number2} = {Number1+Number2}')\n",
    "else:\n",
    "    print(\"please fill the number other than zero in both Number1 and Number2 variables\")"
   ]
  },
  {
   "cell_type": "code",
   "execution_count": 3,
   "id": "95e59fbb",
   "metadata": {},
   "outputs": [
    {
     "name": "stdout",
     "output_type": "stream",
     "text": [
      "difference between 24 and 5 is:\n",
      "24 - 5 = 19\n"
     ]
    }
   ],
   "source": [
    "#Calculate the difference\n",
    "if Number1>Number2:\n",
    "    print(f\"difference between {Number1} and {Number2} is:\")\n",
    "    print(f\"{Number1} - {Number2} = {Number1-Number2}\")\n",
    "else:\n",
    "    print(f\"difference between {Number1} and {Number2} is:\")\n",
    "    print(f\"{Number2} - {Number1} = {Number2-Number1}\")"
   ]
  },
  {
   "cell_type": "code",
   "execution_count": 4,
   "id": "e24e6350",
   "metadata": {},
   "outputs": [
    {
     "name": "stdout",
     "output_type": "stream",
     "text": [
      "24 x 5 = 120\n"
     ]
    }
   ],
   "source": [
    "#Calculate the product\n",
    "if Number1>0 or Number2>0:\n",
    "    print(f\"{Number1} x {Number2} = {Number1*Number2}\")\n",
    "else:\n",
    "    print(\"please insert the value either in Number1 or Number2 for their product\")"
   ]
  },
  {
   "cell_type": "code",
   "execution_count": 5,
   "id": "850a5289",
   "metadata": {},
   "outputs": [
    {
     "name": "stdout",
     "output_type": "stream",
     "text": [
      "enter the 1st value = 36\n",
      "enter the 2nd value = 9\n"
     ]
    }
   ],
   "source": [
    "Numb1 = int(input(\"enter the 1st value = \"))\n",
    "Numb2 = int(input(\"enter the 2nd value = \"))"
   ]
  },
  {
   "cell_type": "code",
   "execution_count": 6,
   "id": "5a9f7ee1",
   "metadata": {},
   "outputs": [
    {
     "name": "stdout",
     "output_type": "stream",
     "text": [
      "36 / 9 = 4.0   (here your 1st value 36 is greater than your 2nd value 9)\n"
     ]
    }
   ],
   "source": [
    "#Calculate the quotient\n",
    "if Numb1 == 0 or Numb2 == 0:\n",
    "    print(\"please insert the value to get quotient of the equation\")\n",
    "elif Numb1>Numb2:\n",
    "    print(f\"{Numb1} / {Numb2} = {Numb1/Numb2}   (here your 1st value {Numb1} is greater than your 2nd value {Numb2})\")\n",
    "else:\n",
    "    print(f\"{Numb2} / {Numb1} = {Numb2/Numb1}   (here your 2nd value {Numb2} is greater than your 1st value {Numb1})\")"
   ]
  },
  {
   "cell_type": "markdown",
   "id": "eba86be9",
   "metadata": {},
   "source": [
    "# 2. Perform various assignment operations on a variable."
   ]
  },
  {
   "cell_type": "code",
   "execution_count": 7,
   "id": "2e95007e",
   "metadata": {},
   "outputs": [
    {
     "name": "stdout",
     "output_type": "stream",
     "text": [
      "5\n",
      "10\n",
      "100\n",
      "10.0\n",
      "5.0\n"
     ]
    }
   ],
   "source": [
    "initial_variable = 5\n",
    "print(initial_variable)\n",
    "\n",
    "initial_variable += 5\n",
    "print(initial_variable)\n",
    "\n",
    "initial_variable *= 10\n",
    "print(initial_variable)\n",
    "\n",
    "initial_variable /= 10\n",
    "print(initial_variable)\n",
    "\n",
    "initial_variable /= 2\n",
    "print(initial_variable)"
   ]
  },
  {
   "cell_type": "markdown",
   "id": "2cf815c7",
   "metadata": {},
   "source": [
    "# 3. Compare two numbers and print the results"
   ]
  },
  {
   "cell_type": "code",
   "execution_count": 8,
   "id": "6e82e612",
   "metadata": {},
   "outputs": [
    {
     "name": "stdout",
     "output_type": "stream",
     "text": [
      "enter the 3rd value = 35\n",
      "enter the 4th value = 7\n"
     ]
    }
   ],
   "source": [
    "Numb3 = int(input(\"enter the 3rd value = \"))\n",
    "Numb4 = int(input(\"enter the 4th value = \"))"
   ]
  },
  {
   "cell_type": "code",
   "execution_count": 9,
   "id": "a8108a7b",
   "metadata": {},
   "outputs": [
    {
     "name": "stdout",
     "output_type": "stream",
     "text": [
      "35 > 7  (35 is greater than 7)\n"
     ]
    }
   ],
   "source": [
    "if Numb3 > Numb4:\n",
    "    print(f\"{Numb3} > {Numb4}  ({Numb3} is greater than {Numb4})\")\n",
    "else:\n",
    "    print(f\"{Numb4} > {Numb3}  ({Numb4} is greater than {Numb3})\")"
   ]
  },
  {
   "cell_type": "markdown",
   "id": "541f6360",
   "metadata": {},
   "source": [
    "# 4. Check conditions using logical operators"
   ]
  },
  {
   "cell_type": "code",
   "execution_count": 10,
   "id": "5498c3d7",
   "metadata": {},
   "outputs": [
    {
     "name": "stdout",
     "output_type": "stream",
     "text": [
      "enter your marks between 0 to 100 = 89\n"
     ]
    }
   ],
   "source": [
    "new_var1 = int(input(\"enter your marks between 0 to 100 = \"))"
   ]
  },
  {
   "cell_type": "code",
   "execution_count": 11,
   "id": "df6fc928",
   "metadata": {},
   "outputs": [
    {
     "name": "stdout",
     "output_type": "stream",
     "text": [
      "you are just 11 marks short to get maximum marks\n"
     ]
    }
   ],
   "source": [
    "if new_var1 == 100:\n",
    "    print(\"you get the maximum marks\")\n",
    "elif new_var1 <100 and new_var1 > 75:\n",
    "    print(f\"you are just {100-new_var1} marks short to get maximum marks\")\n",
    "elif new_var1 == 75:\n",
    "    print(\"you get 75% marks\")\n",
    "elif new_var1 <75 and new_var1 > 50:\n",
    "    print(f\"you are just {75-new_var1} marks short to get 75% marks\")\n",
    "elif new_var1 == 50:\n",
    "    print(\"you get 50% marks\")\n",
    "elif new_var1 <50 and new_var1>33:\n",
    "    print(f\"you just pass and {50-new_var1} marks short to get 50% marks\")\n",
    "else:\n",
    "    print(f\"you are fail and you get just {new_var1}% marks\")"
   ]
  },
  {
   "cell_type": "markdown",
   "id": "29b9077c",
   "metadata": {},
   "source": [
    "# 5. Check the identity of variables. "
   ]
  },
  {
   "cell_type": "code",
   "execution_count": 14,
   "id": "079555ad",
   "metadata": {},
   "outputs": [
    {
     "name": "stdout",
     "output_type": "stream",
     "text": [
      "Chander and Parkash are not same name \n"
     ]
    }
   ],
   "source": [
    "#identity of variables is defined by \"is\" and \"is not\"\n",
    "name1 = \"Chander\"\n",
    "name2 = \"Parkash\"\n",
    "\n",
    "if name1 is name2:\n",
    "    print(f\"{name1} and {name2} are same name or you can say both name is equal\")\n",
    "else:\n",
    "    print(f\"{name1} and {name2} are not same name \")"
   ]
  },
  {
   "cell_type": "code",
   "execution_count": 16,
   "id": "80df3eab",
   "metadata": {},
   "outputs": [
    {
     "name": "stdout",
     "output_type": "stream",
     "text": [
      "both Chander and Parkash are not same so 'is not' condition satisfied here\n"
     ]
    }
   ],
   "source": [
    "if name1 is not name2:\n",
    "    print(f\"both {name1} and {name2} are not same so 'is not' condition satisfied here\")\n",
    "else:\n",
    "    print(f\"both {name1} and {name2} are same so 'is not' condition not satisfied here\")"
   ]
  },
  {
   "cell_type": "markdown",
   "id": "1fa1d7a1",
   "metadata": {},
   "source": [
    "# 6. Perform bitwise operations on any two integers"
   ]
  },
  {
   "cell_type": "code",
   "execution_count": 1,
   "id": "500ca86a",
   "metadata": {},
   "outputs": [
    {
     "data": {
      "text/plain": [
       "0"
      ]
     },
     "execution_count": 1,
     "metadata": {},
     "output_type": "execute_result"
    }
   ],
   "source": [
    "# & operator (0 & 0 = 0, 0 & 1 = 0, 1 & 0 = 0, 1 & 1 = 1)\n",
    "a1 = 24 # bin(24) is 0b11000\n",
    "a2 = 4 # bin(4) is 0b100\n",
    "a1 & a2 # output of this = bin(0)"
   ]
  },
  {
   "cell_type": "code",
   "execution_count": 14,
   "id": "b11db0d7",
   "metadata": {},
   "outputs": [
    {
     "name": "stdout",
     "output_type": "stream",
     "text": [
      "bin(24) is 0b11000 i.e. (11000) and bin(4) is 0b100 i.e. (100)\n",
      "\n",
      "11000\n",
      "  100\n",
      "------\n",
      "00000\n",
      "------\n",
      "\n",
      "output 0 = bin(0)\n"
     ]
    }
   ],
   "source": [
    "print(f\"bin(24) is {bin(24)} i.e. ({bin(24)[2:7]}) and bin(4) is {bin(4)} i.e. ({bin(4)[2:5]})\")\n",
    "print()\n",
    "print(bin(24)[2:7]) #use slicing to show only value of the bin value\n",
    "print(f\"  {bin(4)[2:5]}\") #use slicing to show only value of the bin value\n",
    "print(\"------\")\n",
    "print(f\"00000\") #0 type manually just because to show output impresive\n",
    "print(\"------\")\n",
    "print()\n",
    "print(f\"output 0 = bin(0)\") #0 is the output of bin(0)"
   ]
  },
  {
   "cell_type": "code",
   "execution_count": 3,
   "id": "600fac15",
   "metadata": {},
   "outputs": [
    {
     "name": "stdout",
     "output_type": "stream",
     "text": [
      "bin(0) is 0b0\n"
     ]
    }
   ],
   "source": [
    "print(f\"bin(0) is {bin(0)}\") #0 is the output of bin(0)"
   ]
  },
  {
   "cell_type": "code",
   "execution_count": 33,
   "id": "54b3b40a",
   "metadata": {},
   "outputs": [
    {
     "name": "stdout",
     "output_type": "stream",
     "text": [
      "~1 = -2\n",
      "~2 = -3\n",
      "~56 = -57\n"
     ]
    }
   ],
   "source": [
    "# negative terms in bitwise operations is define by ~\n",
    "# use ~ for negative value\n",
    "print(f\"~1 = {~1}\")\n",
    "print(f\"~2 = {~2}\")\n",
    "print(f\"~56 = {~56}\")"
   ]
  },
  {
   "cell_type": "code",
   "execution_count": 39,
   "id": "4fffa055",
   "metadata": {},
   "outputs": [
    {
     "name": "stdout",
     "output_type": "stream",
     "text": [
      "bin(54) is 0b110110 and bin(4) is 0b100\n",
      "bin(50) is 0b110010\n",
      "50\n"
     ]
    }
   ],
   "source": [
    "#xor is defined by ^ (0 & 0 = 0, 0 & 1 = 1, 1 & 0 = 1, 1 & 1 = 0)\n",
    "xor_bin = 54 ^ 4\n",
    "print(f\"bin(54) is {bin(54)} and bin(4) is {bin(4)}\")\n",
    "print(f\"bin(50) is {bin(50)}\")\n",
    "\n",
    "print(xor_bin)"
   ]
  },
  {
   "cell_type": "code",
   "execution_count": 50,
   "id": "6dd2d7be",
   "metadata": {},
   "outputs": [
    {
     "name": "stdout",
     "output_type": "stream",
     "text": [
      "bin(54) is 0b110110 after left shift by 4 = 0b1101100000\n",
      "bin(864) is 0b1101100000\n",
      "864\n"
     ]
    }
   ],
   "source": [
    "# left and right shift\n",
    "#left shift (<<)\n",
    "\n",
    "left_shift = 54 << 4\n",
    "print(f\"bin(54) is {bin(54)} after left shift by 4 = {bin(54)}0000\")\n",
    "print(f\"bin(864) is {bin(864)}\")\n",
    "\n",
    "print(left_shift)"
   ]
  },
  {
   "cell_type": "code",
   "execution_count": 59,
   "id": "7210048e",
   "metadata": {},
   "outputs": [
    {
     "name": "stdout",
     "output_type": "stream",
     "text": [
      "bin(54) is 0b110110 after right shift by 4 = 0b11\n",
      "bin(3) is 0b11\n",
      "3\n"
     ]
    }
   ],
   "source": [
    "#right shift (>>)\n",
    "\n",
    "right_shift = 54 >> 4\n",
    "print(f\"bin(54) is {bin(54)} after right shift by 4 = {bin(54)[0:(len(bin(54))-4)]}\")\n",
    "print(f\"bin(3) is {bin(3)}\")\n",
    "\n",
    "print(right_shift)"
   ]
  },
  {
   "cell_type": "markdown",
   "id": "52d9a24d",
   "metadata": {},
   "source": [
    "# 7. Use unary operators to change the sign of a number."
   ]
  },
  {
   "cell_type": "code",
   "execution_count": 61,
   "id": "d208141a",
   "metadata": {},
   "outputs": [
    {
     "name": "stdout",
     "output_type": "stream",
     "text": [
      "-5\n"
     ]
    }
   ],
   "source": [
    "# to change the sign of any number plus to minus just multiply by -1\n",
    "b = 5\n",
    "b *= -1 #-1 change the sign of value after multiply\n",
    "print(b)"
   ]
  },
  {
   "cell_type": "markdown",
   "id": "69f9df57",
   "metadata": {},
   "source": [
    "# 8. use the ternary operator to assign values based on conditions"
   ]
  },
  {
   "cell_type": "code",
   "execution_count": 67,
   "id": "e0c86b8a",
   "metadata": {},
   "outputs": [
    {
     "name": "stdout",
     "output_type": "stream",
     "text": [
      "15 is smaller than 17\n"
     ]
    }
   ],
   "source": [
    "#syntax of ternary variable = (if_statement) if true_condition else false_condition\n",
    "z1 = 15\n",
    "z2 = 17\n",
    "z3 = f\"{z1} is greater than {z2}\" if z1>z2 else f\"{z1} is smaller than {z2}\" #use conditionally assign the value to z3\n",
    "print(z3)"
   ]
  }
 ],
 "metadata": {
  "kernelspec": {
   "display_name": "Python 3 (ipykernel)",
   "language": "python",
   "name": "python3"
  },
  "language_info": {
   "codemirror_mode": {
    "name": "ipython",
    "version": 3
   },
   "file_extension": ".py",
   "mimetype": "text/x-python",
   "name": "python",
   "nbconvert_exporter": "python",
   "pygments_lexer": "ipython3",
   "version": "3.11.5"
  }
 },
 "nbformat": 4,
 "nbformat_minor": 5
}
